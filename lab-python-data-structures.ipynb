{
 "cells": [
  {
   "cell_type": "markdown",
   "metadata": {
    "tags": []
   },
   "source": [
    "# Lab | Data Structures "
   ]
  },
  {
   "cell_type": "markdown",
   "metadata": {},
   "source": []
  },
  {
   "cell_type": "markdown",
   "metadata": {},
   "source": [
    "## Exercise: Managing Customer Orders\n",
    "\n",
    "As part of a business venture, you are starting an online store that sells various products. To ensure smooth operations, you need to develop a program that manages customer orders and inventory.\n",
    "\n",
    "Follow the steps below to complete the exercise:\n",
    "\n",
    "1. Define a list called `products` that contains the following items: \"t-shirt\", \"mug\", \"hat\", \"book\", \"keychain\".\n",
    "\n",
    "2. Create an empty dictionary called `inventory`.\n",
    "\n",
    "3. Ask the user to input the quantity of each product available in the inventory. Use the product names from the `products` list as keys in the `inventory` dictionary and assign the respective quantities as values.\n",
    "\n",
    "4. Create an empty set called `customer_orders`.\n",
    "\n",
    "5. Ask the user to input the name of three products that a customer wants to order (from those in the products list, meaning three products out of \"t-shirt\", \"mug\", \"hat\", \"book\" or \"keychain\". Add each product name to the `customer_orders` set.\n",
    "\n",
    "6. Print the products in the `customer_orders` set.\n",
    "\n",
    "7. Calculate the following order statistics:\n",
    "   - Total Products Ordered: The total number of products in the `customer_orders` set.\n",
    "   - Percentage of Products Ordered: The percentage of products ordered compared to the total available products.\n",
    "   \n",
    "   Store these statistics in a tuple called `order_status`.\n",
    "\n",
    "8. Print the order statistics using the following format:\n",
    "   ```\n",
    "   Order Statistics:\n",
    "   Total Products Ordered: <total_products_ordered>\n",
    "   Percentage of Products Ordered: <percentage_ordered>% \n",
    "   ```\n",
    "\n",
    "9. Update the inventory by subtracting 1 from the quantity of each product. Modify the `inventory` dictionary accordingly.\n",
    "\n",
    "10. Print the updated inventory, displaying the quantity of each product on separate lines.\n",
    "\n",
    "Solve the exercise by implementing the steps using the Python concepts of lists, dictionaries, sets, and basic input/output operations. "
   ]
  },
  {
   "cell_type": "code",
   "execution_count": 14,
   "metadata": {},
   "outputs": [],
   "source": [
    "products = [\"t-shirt\",\"mug\",\"hat\",\"book\",\"keychain\"]"
   ]
  },
  {
   "cell_type": "code",
   "execution_count": 15,
   "metadata": {},
   "outputs": [],
   "source": [
    "inventory = {}\n",
    "for key in products:   \n",
    "    inventory[key] = int(input(f\"{key} stock: \"))"
   ]
  },
  {
   "cell_type": "code",
   "execution_count": 16,
   "metadata": {},
   "outputs": [
    {
     "name": "stdout",
     "output_type": "stream",
     "text": [
      "Añade 3 productos al pedido entre t-shirt, mug, hat, book, keychain\n"
     ]
    },
    {
     "data": {
      "text/plain": [
       "{'book', 'hat', 'mug'}"
      ]
     },
     "execution_count": 16,
     "metadata": {},
     "output_type": "execute_result"
    }
   ],
   "source": [
    "customers_orders = set()\n",
    "print(f'Añade 3 productos al pedido entre t-shirt, mug, hat, book, keychain')\n",
    "\n",
    "producto1 = input(\"Añade el 1º producto: \")\n",
    "while producto1 not in products:\n",
    "    producto1 = input(\"Añade un producto que este en la siguiente lista: t-shirt, mug,  hat, book, keychain: \")\n",
    "customers_orders.add(producto1)\n",
    "\n",
    "producto2 = input('Añade el 2º producto: ')\n",
    "while producto2 not in products:\n",
    "    producto2 = input(\"Añade un producto que este en la siguiente lista: t-shirt, mug,  hat, book, keychain: \")\n",
    "customers_orders.add(producto2)\n",
    "\n",
    "producto3 = input('Añade el 3º producto: ')\n",
    "while producto3 not in products:\n",
    "    producto3 = input(\"Añade un producto que este en la siguiente lista: t-shirt, mug,  hat, book, keychain: \")\n",
    "customers_orders.add(producto3)\n",
    "\n",
    "customers_orders"
   ]
  },
  {
   "cell_type": "code",
   "execution_count": 17,
   "metadata": {},
   "outputs": [
    {
     "name": "stdout",
     "output_type": "stream",
     "text": [
      "El total de productos ordenados es: 3\n"
     ]
    }
   ],
   "source": [
    "total_products_ordered=len(customers_orders)\n",
    "print(f'El total de productos ordenados es: {total_products_ordered}')"
   ]
  },
  {
   "cell_type": "code",
   "execution_count": 18,
   "metadata": {},
   "outputs": [
    {
     "name": "stdout",
     "output_type": "stream",
     "text": [
      "El porcentaje de productos ordenados es: 30.0\n"
     ]
    }
   ],
   "source": [
    "inventory_list_values = list(inventory.values())\n",
    "total_products = 0\n",
    "\n",
    "for value in inventory_list_values:\n",
    "    total_products += value\n",
    "\n",
    "percentage_ordered = total_products_ordered / total_products * 100\n",
    "    \n",
    "print(f'El porcentaje de productos ordenados es: {percentage_ordered}')\n"
   ]
  },
  {
   "cell_type": "code",
   "execution_count": 19,
   "metadata": {},
   "outputs": [],
   "source": [
    "order_status = (total_products_ordered , percentage_ordered)"
   ]
  },
  {
   "cell_type": "code",
   "execution_count": 20,
   "metadata": {},
   "outputs": [
    {
     "name": "stdout",
     "output_type": "stream",
     "text": [
      "Order statistics \n",
      "Total products ordered: 3 \n",
      "Percentage of products ordered: 30.0 %\n"
     ]
    }
   ],
   "source": [
    "print(f'Order statistics \\nTotal products ordered: {total_products_ordered} \\nPercentage of products ordered: {percentage_ordered} %')"
   ]
  },
  {
   "cell_type": "code",
   "execution_count": 42,
   "metadata": {},
   "outputs": [
    {
     "name": "stdout",
     "output_type": "stream",
     "text": [
      "('t-shirt', -19)\n",
      "('mug', -19)\n",
      "('hat', -19)\n",
      "('book', -19)\n",
      "('keychain', -19)\n"
     ]
    }
   ],
   "source": [
    "inventory_tshirt = inventory[\"t-shirt\"]\n",
    "inventory_tshirt -= 1\n",
    "inventory[\"t-shirt\"] = inventory_tshirt\n",
    "\n",
    "inventory_mug = inventory[\"mug\"]\n",
    "inventory_mug -= 1\n",
    "inventory[\"mug\"] = inventory_mug\n",
    "\n",
    "inventory_hat = inventory[\"hat\"]\n",
    "inventory_hat -= 1\n",
    "inventory[\"hat\"] = inventory_hat\n",
    "\n",
    "inventory_book = inventory[\"book\"]\n",
    "inventory_book -= 1\n",
    "inventory[\"book\"] = inventory_book\n",
    "\n",
    "inventory_keychain = inventory[\"keychain\"]\n",
    "inventory_keychain -= 1\n",
    "inventory[\"keychain\"] = inventory_keychain\n",
    "\n",
    "print(*inventory.items(), sep='\\n')"
   ]
  }
 ],
 "metadata": {
  "kernelspec": {
   "display_name": "Python 3 (ipykernel)",
   "language": "python",
   "name": "python3"
  },
  "language_info": {
   "codemirror_mode": {
    "name": "ipython",
    "version": 3
   },
   "file_extension": ".py",
   "mimetype": "text/x-python",
   "name": "python",
   "nbconvert_exporter": "python",
   "pygments_lexer": "ipython3",
   "version": "3.9.6"
  }
 },
 "nbformat": 4,
 "nbformat_minor": 4
}
